{
 "cells": [
  {
   "cell_type": "code",
   "execution_count": null,
   "metadata": {},
   "outputs": [],
   "source": [
    "from PIL import Image\n",
    "import numpy as np\n",
    "import matplotlib.pyplot as plt\n",
    "from IPython.display import display"
   ]
  },
  {
   "cell_type": "code",
   "execution_count": null,
   "metadata": {},
   "outputs": [],
   "source": [
    "imgOriginal = Image.open(r\"MichaelScottmd.jpg\").convert(\"L\")"
   ]
  },
  {
   "cell_type": "code",
   "execution_count": null,
   "metadata": {},
   "outputs": [],
   "source": [
    "def hamming_encode(bits):\n",
    "    p1 = bits[1] ^ bits[2] ^ bits[3]\n",
    "    p2 = bits[0] ^ bits[2] ^ bits[3]\n",
    "    p3 = bits[0] ^ bits[1] ^ bits[3]\n",
    "    return np.array([bits[0], bits[1], bits[2], bits[3], p1, p2, p3])\n",
    "\n",
    "def hamming_decode(hamming_code):\n",
    "    m = hamming_code[0:4]\n",
    "    s = (hamming_code @ np.array([[0,0,1],[0,1,0],[0,1,1],[1,0,0],[1,0,1],[1,1,0],[1,1,1]]))%2\n",
    "    pos = np.array([4,2,1]) @ s\n",
    "    if (pos > 0) and (pos < 5):\n",
    "        m[pos-1] = (m[pos-1] + 1)%2\n",
    "    return np.array(m)"
   ]
  },
  {
   "cell_type": "code",
   "execution_count": null,
   "metadata": {},
   "outputs": [],
   "source": [
    "def simularRuido(imagem, itsdRuido):\n",
    "    imagem = np.array(imagem)\n",
    "\n",
    "    aux = np.where(imagem == 0, -1, 1).astype(float)\n",
    "    ruido = np.random.normal(0, itsdRuido, imagem.shape)\n",
    "    aux += ruido\n",
    "    aux = np.where(aux < 0, 0, 1)\n",
    "\n",
    "    return aux"
   ]
  },
  {
   "cell_type": "code",
   "execution_count": null,
   "metadata": {},
   "outputs": [],
   "source": [
    "def simulate(image, itensidade_do_ruido = 1, hamming=False, tamanho_da_imagem=(256,256)):\n",
    "    image = np.array(imgOriginal)\n",
    "\n",
    "    image = np.resize(image, tamanho_da_imagem)\n",
    "\n",
    "    bits = np.unpackbits(image)\n",
    "\n",
    "    if hamming:\n",
    "        bits = np.array([hamming_encode(bits[i:i+4]) for i in range(0, len(bits), 4)])\n",
    "    else:\n",
    "        bits = np.array([bits[i:i+4] for i in range(0, len(bits), 4)])\n",
    "\n",
    "    bits = simularRuido(bits, itensidade_do_ruido)\n",
    "\n",
    "    if hamming:\n",
    "        decoded_bits = np.array([hamming_decode(bits[i]) for i in range(len(bits))])\n",
    "    else:\n",
    "        decoded_bits = np.array([bits[i] for i in range(len(bits))])\n",
    "\n",
    "    decoded_image = np.packbits(decoded_bits)\n",
    "    decoded_image = np.resize(decoded_image, tamanho_da_imagem)\n",
    "\n",
    "\n",
    "    imgNova = Image.new('L', (image.shape[0]*2, image.shape[1]))\n",
    "    imgNova.paste(imgOriginal, (0, 0))\n",
    "\n",
    "    imgNova.paste(Image.fromarray(decoded_image), (image.shape[0], 0))\n",
    "\n",
    "    return decoded_bits.flatten(), imgNova"
   ]
  },
  {
   "cell_type": "code",
   "execution_count": null,
   "metadata": {},
   "outputs": [],
   "source": [
    "def calculoErro(bin_img, bin_img_2):\n",
    "    return np.sum(bin_img != bin_img_2)\n",
    "\n",
    "def get_erros(imagem, hamming=False, tamanho_da_imagem=(256,256)):\n",
    "    img_arr = np.array(imagem)\n",
    "    x, y = [], []\n",
    "    total_dig = img_arr.shape[0]*img_arr.shape[1]*8\n",
    "    for i in np.arange(0, 10, 0.1):\n",
    "        x.append(i)\n",
    "\n",
    "        y.append(calculoErro(np.unpackbits(img_arr), simulate(imagem, i, hamming, tamanho_da_imagem)[0])/total_dig)\n",
    "    return x, y"
   ]
  },
  {
   "cell_type": "code",
   "execution_count": null,
   "metadata": {},
   "outputs": [],
   "source": [
    "x, y = get_erros(imgOriginal, False)\n",
    "plt.plot(x, y)"
   ]
  },
  {
   "cell_type": "code",
   "execution_count": null,
   "metadata": {},
   "outputs": [],
   "source": [
    "_, img = simulate(imgOriginal, 0.5, True)\n",
    "display(img)"
   ]
  },
  {
   "cell_type": "code",
   "execution_count": null,
   "metadata": {},
   "outputs": [],
   "source": [
    "_, img = simulate(imgOriginal, 0.5, False)\n",
    "display(img)"
   ]
  },
  {
   "cell_type": "code",
   "execution_count": null,
   "metadata": {},
   "outputs": [],
   "source": [
    "x, y = get_erros(imgOriginal, False)\n",
    "plt.plot(x, y)\n",
    "x, y = get_erros(imgOriginal, True)\n",
    "plt.plot(x, y)\n",
    "plt.legend(['Normal', 'Hamming'])"
   ]
  }
 ],
 "metadata": {
  "language_info": {
   "name": "python"
  },
  "orig_nbformat": 4
 },
 "nbformat": 4,
 "nbformat_minor": 2
}
